{
 "cells": [
  {
   "cell_type": "markdown",
   "metadata": {},
   "source": [
    "### Importing libraries"
   ]
  },
  {
   "cell_type": "code",
   "execution_count": 1,
   "metadata": {},
   "outputs": [],
   "source": [
    "import pandas as pd\n",
    "import numpy as np\n",
    "import seaborn as sns\n",
    "import matplotlib.pyplot as plt\n",
    "import warnings\n",
    "warnings.filterwarnings('ignore')\n",
    "from sklearn.preprocessing import LabelEncoder\n",
    "from sklearn.model_selection import train_test_split\n",
    "from sklearn.ensemble import RandomForestClassifier\n",
    "from sklearn.inspection import permutation_importance\n",
    "from sklearn.linear_model import LogisticRegression\n",
    "from sklearn.cluster import KMeans\n",
    "from sklearn.metrics import silhouette_score\n",
    "from sklearn.neighbors import KNeighborsClassifier\n",
    "from sklearn.tree import DecisionTreeClassifier\n",
    "from sklearn import metrics\n",
    "from sklearn.metrics import accuracy_score, precision_score, recall_score, f1_score, plot_confusion_matrix, classification_report, plot_roc_curve"
   ]
  },
  {
   "cell_type": "markdown",
   "metadata": {},
   "source": [
    "### Loading dataset"
   ]
  },
  {
   "cell_type": "code",
   "execution_count": 2,
   "metadata": {},
   "outputs": [
    {
     "data": {
      "text/html": [
       "<div>\n",
       "<style scoped>\n",
       "    .dataframe tbody tr th:only-of-type {\n",
       "        vertical-align: middle;\n",
       "    }\n",
       "\n",
       "    .dataframe tbody tr th {\n",
       "        vertical-align: top;\n",
       "    }\n",
       "\n",
       "    .dataframe thead th {\n",
       "        text-align: right;\n",
       "    }\n",
       "</style>\n",
       "<table border=\"1\" class=\"dataframe\">\n",
       "  <thead>\n",
       "    <tr style=\"text-align: right;\">\n",
       "      <th></th>\n",
       "      <th>Accident_Index</th>\n",
       "      <th>Location_Easting_OSGR</th>\n",
       "      <th>Location_Northing_OSGR</th>\n",
       "      <th>Longitude</th>\n",
       "      <th>Latitude</th>\n",
       "      <th>Police_Force</th>\n",
       "      <th>Accident_Severity</th>\n",
       "      <th>Number_of_Vehicles</th>\n",
       "      <th>Number_of_Casualties</th>\n",
       "      <th>Date</th>\n",
       "      <th>...</th>\n",
       "      <th>Pedestrian_Crossing-Human_Control</th>\n",
       "      <th>Pedestrian_Crossing-Physical_Facilities</th>\n",
       "      <th>Light_Conditions</th>\n",
       "      <th>Weather_Conditions</th>\n",
       "      <th>Road_Surface_Conditions</th>\n",
       "      <th>Special_Conditions_at_Site</th>\n",
       "      <th>Carriageway_Hazards</th>\n",
       "      <th>Urban_or_Rural_Area</th>\n",
       "      <th>Did_Police_Officer_Attend_Scene_of_Accident</th>\n",
       "      <th>LSOA_of_Accident_Location</th>\n",
       "    </tr>\n",
       "  </thead>\n",
       "  <tbody>\n",
       "    <tr>\n",
       "      <th>825</th>\n",
       "      <td>200501CP00086</td>\n",
       "      <td>533440</td>\n",
       "      <td>180700</td>\n",
       "      <td>-0.078534</td>\n",
       "      <td>51.509426</td>\n",
       "      <td>1</td>\n",
       "      <td>3</td>\n",
       "      <td>2</td>\n",
       "      <td>1</td>\n",
       "      <td>17/05/2005</td>\n",
       "      <td>...</td>\n",
       "      <td>0</td>\n",
       "      <td>5</td>\n",
       "      <td>1</td>\n",
       "      <td>1</td>\n",
       "      <td>1</td>\n",
       "      <td>0</td>\n",
       "      <td>0</td>\n",
       "      <td>1</td>\n",
       "      <td>2</td>\n",
       "      <td>E01004293</td>\n",
       "    </tr>\n",
       "    <tr>\n",
       "      <th>4770</th>\n",
       "      <td>200501GD10196</td>\n",
       "      <td>536810</td>\n",
       "      <td>184340</td>\n",
       "      <td>-0.028590</td>\n",
       "      <td>51.541331</td>\n",
       "      <td>1</td>\n",
       "      <td>3</td>\n",
       "      <td>1</td>\n",
       "      <td>1</td>\n",
       "      <td>11/01/2005</td>\n",
       "      <td>...</td>\n",
       "      <td>1</td>\n",
       "      <td>0</td>\n",
       "      <td>1</td>\n",
       "      <td>1</td>\n",
       "      <td>1</td>\n",
       "      <td>0</td>\n",
       "      <td>0</td>\n",
       "      <td>1</td>\n",
       "      <td>3</td>\n",
       "      <td>E01004223</td>\n",
       "    </tr>\n",
       "    <tr>\n",
       "      <th>4840</th>\n",
       "      <td>200501GD10277</td>\n",
       "      <td>534220</td>\n",
       "      <td>183140</td>\n",
       "      <td>-0.066373</td>\n",
       "      <td>51.531168</td>\n",
       "      <td>1</td>\n",
       "      <td>3</td>\n",
       "      <td>2</td>\n",
       "      <td>1</td>\n",
       "      <td>02/04/2005</td>\n",
       "      <td>...</td>\n",
       "      <td>0</td>\n",
       "      <td>1</td>\n",
       "      <td>1</td>\n",
       "      <td>1</td>\n",
       "      <td>1</td>\n",
       "      <td>0</td>\n",
       "      <td>0</td>\n",
       "      <td>1</td>\n",
       "      <td>2</td>\n",
       "      <td>E01001774</td>\n",
       "    </tr>\n",
       "    <tr>\n",
       "      <th>4849</th>\n",
       "      <td>200501GD10289</td>\n",
       "      <td>537190</td>\n",
       "      <td>183530</td>\n",
       "      <td>-0.023430</td>\n",
       "      <td>51.533960</td>\n",
       "      <td>1</td>\n",
       "      <td>3</td>\n",
       "      <td>2</td>\n",
       "      <td>1</td>\n",
       "      <td>02/04/2005</td>\n",
       "      <td>...</td>\n",
       "      <td>0</td>\n",
       "      <td>0</td>\n",
       "      <td>1</td>\n",
       "      <td>1</td>\n",
       "      <td>1</td>\n",
       "      <td>0</td>\n",
       "      <td>0</td>\n",
       "      <td>1</td>\n",
       "      <td>1</td>\n",
       "      <td>E01004227</td>\n",
       "    </tr>\n",
       "    <tr>\n",
       "      <th>4967</th>\n",
       "      <td>200501GD10433</td>\n",
       "      <td>534220</td>\n",
       "      <td>183140</td>\n",
       "      <td>-0.066373</td>\n",
       "      <td>51.531168</td>\n",
       "      <td>1</td>\n",
       "      <td>3</td>\n",
       "      <td>2</td>\n",
       "      <td>1</td>\n",
       "      <td>16/05/2005</td>\n",
       "      <td>...</td>\n",
       "      <td>0</td>\n",
       "      <td>0</td>\n",
       "      <td>1</td>\n",
       "      <td>1</td>\n",
       "      <td>1</td>\n",
       "      <td>0</td>\n",
       "      <td>0</td>\n",
       "      <td>1</td>\n",
       "      <td>1</td>\n",
       "      <td>E01001774</td>\n",
       "    </tr>\n",
       "    <tr>\n",
       "      <th>...</th>\n",
       "      <td>...</td>\n",
       "      <td>...</td>\n",
       "      <td>...</td>\n",
       "      <td>...</td>\n",
       "      <td>...</td>\n",
       "      <td>...</td>\n",
       "      <td>...</td>\n",
       "      <td>...</td>\n",
       "      <td>...</td>\n",
       "      <td>...</td>\n",
       "      <td>...</td>\n",
       "      <td>...</td>\n",
       "      <td>...</td>\n",
       "      <td>...</td>\n",
       "      <td>...</td>\n",
       "      <td>...</td>\n",
       "      <td>...</td>\n",
       "      <td>...</td>\n",
       "      <td>...</td>\n",
       "      <td>...</td>\n",
       "      <td>...</td>\n",
       "    </tr>\n",
       "    <tr>\n",
       "      <th>138009</th>\n",
       "      <td>201001TC00067</td>\n",
       "      <td>536380</td>\n",
       "      <td>183260</td>\n",
       "      <td>-0.035205</td>\n",
       "      <td>51.531730</td>\n",
       "      <td>1</td>\n",
       "      <td>3</td>\n",
       "      <td>2</td>\n",
       "      <td>1</td>\n",
       "      <td>16/02/2010</td>\n",
       "      <td>...</td>\n",
       "      <td>0</td>\n",
       "      <td>1</td>\n",
       "      <td>1</td>\n",
       "      <td>2</td>\n",
       "      <td>2</td>\n",
       "      <td>0</td>\n",
       "      <td>0</td>\n",
       "      <td>1</td>\n",
       "      <td>1</td>\n",
       "      <td>E01004228</td>\n",
       "    </tr>\n",
       "    <tr>\n",
       "      <th>138012</th>\n",
       "      <td>201001TC00071</td>\n",
       "      <td>537550</td>\n",
       "      <td>182170</td>\n",
       "      <td>-0.018773</td>\n",
       "      <td>51.521651</td>\n",
       "      <td>1</td>\n",
       "      <td>3</td>\n",
       "      <td>2</td>\n",
       "      <td>1</td>\n",
       "      <td>18/01/2010</td>\n",
       "      <td>...</td>\n",
       "      <td>0</td>\n",
       "      <td>0</td>\n",
       "      <td>1</td>\n",
       "      <td>1</td>\n",
       "      <td>1</td>\n",
       "      <td>0</td>\n",
       "      <td>0</td>\n",
       "      <td>1</td>\n",
       "      <td>1</td>\n",
       "      <td>E01004242</td>\n",
       "    </tr>\n",
       "    <tr>\n",
       "      <th>138022</th>\n",
       "      <td>201001TC00083</td>\n",
       "      <td>533960</td>\n",
       "      <td>181380</td>\n",
       "      <td>-0.070787</td>\n",
       "      <td>51.515414</td>\n",
       "      <td>1</td>\n",
       "      <td>2</td>\n",
       "      <td>1</td>\n",
       "      <td>1</td>\n",
       "      <td>17/03/2010</td>\n",
       "      <td>...</td>\n",
       "      <td>0</td>\n",
       "      <td>1</td>\n",
       "      <td>4</td>\n",
       "      <td>1</td>\n",
       "      <td>1</td>\n",
       "      <td>0</td>\n",
       "      <td>0</td>\n",
       "      <td>1</td>\n",
       "      <td>1</td>\n",
       "      <td>E01004325</td>\n",
       "    </tr>\n",
       "    <tr>\n",
       "      <th>138023</th>\n",
       "      <td>201001TC00084</td>\n",
       "      <td>534500</td>\n",
       "      <td>181720</td>\n",
       "      <td>-0.062880</td>\n",
       "      <td>51.518341</td>\n",
       "      <td>1</td>\n",
       "      <td>2</td>\n",
       "      <td>2</td>\n",
       "      <td>1</td>\n",
       "      <td>02/03/2010</td>\n",
       "      <td>...</td>\n",
       "      <td>0</td>\n",
       "      <td>5</td>\n",
       "      <td>4</td>\n",
       "      <td>1</td>\n",
       "      <td>1</td>\n",
       "      <td>0</td>\n",
       "      <td>0</td>\n",
       "      <td>1</td>\n",
       "      <td>1</td>\n",
       "      <td>E01004309</td>\n",
       "    </tr>\n",
       "    <tr>\n",
       "      <th>138027</th>\n",
       "      <td>201001TC00089</td>\n",
       "      <td>536520</td>\n",
       "      <td>181110</td>\n",
       "      <td>-0.034021</td>\n",
       "      <td>51.512375</td>\n",
       "      <td>1</td>\n",
       "      <td>3</td>\n",
       "      <td>1</td>\n",
       "      <td>2</td>\n",
       "      <td>15/03/2010</td>\n",
       "      <td>...</td>\n",
       "      <td>0</td>\n",
       "      <td>0</td>\n",
       "      <td>1</td>\n",
       "      <td>1</td>\n",
       "      <td>1</td>\n",
       "      <td>0</td>\n",
       "      <td>0</td>\n",
       "      <td>1</td>\n",
       "      <td>1</td>\n",
       "      <td>E01004254</td>\n",
       "    </tr>\n",
       "  </tbody>\n",
       "</table>\n",
       "<p>4967 rows × 32 columns</p>\n",
       "</div>"
      ],
      "text/plain": [
       "       Accident_Index  Location_Easting_OSGR  Location_Northing_OSGR  \\\n",
       "825     200501CP00086                 533440                  180700   \n",
       "4770    200501GD10196                 536810                  184340   \n",
       "4840    200501GD10277                 534220                  183140   \n",
       "4849    200501GD10289                 537190                  183530   \n",
       "4967    200501GD10433                 534220                  183140   \n",
       "...               ...                    ...                     ...   \n",
       "138009  201001TC00067                 536380                  183260   \n",
       "138012  201001TC00071                 537550                  182170   \n",
       "138022  201001TC00083                 533960                  181380   \n",
       "138023  201001TC00084                 534500                  181720   \n",
       "138027  201001TC00089                 536520                  181110   \n",
       "\n",
       "        Longitude   Latitude  Police_Force  Accident_Severity  \\\n",
       "825     -0.078534  51.509426             1                  3   \n",
       "4770    -0.028590  51.541331             1                  3   \n",
       "4840    -0.066373  51.531168             1                  3   \n",
       "4849    -0.023430  51.533960             1                  3   \n",
       "4967    -0.066373  51.531168             1                  3   \n",
       "...           ...        ...           ...                ...   \n",
       "138009  -0.035205  51.531730             1                  3   \n",
       "138012  -0.018773  51.521651             1                  3   \n",
       "138022  -0.070787  51.515414             1                  2   \n",
       "138023  -0.062880  51.518341             1                  2   \n",
       "138027  -0.034021  51.512375             1                  3   \n",
       "\n",
       "        Number_of_Vehicles  Number_of_Casualties        Date  ...  \\\n",
       "825                      2                     1  17/05/2005  ...   \n",
       "4770                     1                     1  11/01/2005  ...   \n",
       "4840                     2                     1  02/04/2005  ...   \n",
       "4849                     2                     1  02/04/2005  ...   \n",
       "4967                     2                     1  16/05/2005  ...   \n",
       "...                    ...                   ...         ...  ...   \n",
       "138009                   2                     1  16/02/2010  ...   \n",
       "138012                   2                     1  18/01/2010  ...   \n",
       "138022                   1                     1  17/03/2010  ...   \n",
       "138023                   2                     1  02/03/2010  ...   \n",
       "138027                   1                     2  15/03/2010  ...   \n",
       "\n",
       "        Pedestrian_Crossing-Human_Control  \\\n",
       "825                                     0   \n",
       "4770                                    1   \n",
       "4840                                    0   \n",
       "4849                                    0   \n",
       "4967                                    0   \n",
       "...                                   ...   \n",
       "138009                                  0   \n",
       "138012                                  0   \n",
       "138022                                  0   \n",
       "138023                                  0   \n",
       "138027                                  0   \n",
       "\n",
       "       Pedestrian_Crossing-Physical_Facilities  Light_Conditions  \\\n",
       "825                                          5                 1   \n",
       "4770                                         0                 1   \n",
       "4840                                         1                 1   \n",
       "4849                                         0                 1   \n",
       "4967                                         0                 1   \n",
       "...                                        ...               ...   \n",
       "138009                                       1                 1   \n",
       "138012                                       0                 1   \n",
       "138022                                       1                 4   \n",
       "138023                                       5                 4   \n",
       "138027                                       0                 1   \n",
       "\n",
       "       Weather_Conditions  Road_Surface_Conditions  \\\n",
       "825                     1                        1   \n",
       "4770                    1                        1   \n",
       "4840                    1                        1   \n",
       "4849                    1                        1   \n",
       "4967                    1                        1   \n",
       "...                   ...                      ...   \n",
       "138009                  2                        2   \n",
       "138012                  1                        1   \n",
       "138022                  1                        1   \n",
       "138023                  1                        1   \n",
       "138027                  1                        1   \n",
       "\n",
       "        Special_Conditions_at_Site  Carriageway_Hazards  Urban_or_Rural_Area  \\\n",
       "825                              0                    0                    1   \n",
       "4770                             0                    0                    1   \n",
       "4840                             0                    0                    1   \n",
       "4849                             0                    0                    1   \n",
       "4967                             0                    0                    1   \n",
       "...                            ...                  ...                  ...   \n",
       "138009                           0                    0                    1   \n",
       "138012                           0                    0                    1   \n",
       "138022                           0                    0                    1   \n",
       "138023                           0                    0                    1   \n",
       "138027                           0                    0                    1   \n",
       "\n",
       "        Did_Police_Officer_Attend_Scene_of_Accident  LSOA_of_Accident_Location  \n",
       "825                                               2                  E01004293  \n",
       "4770                                              3                  E01004223  \n",
       "4840                                              2                  E01001774  \n",
       "4849                                              1                  E01004227  \n",
       "4967                                              1                  E01001774  \n",
       "...                                             ...                        ...  \n",
       "138009                                            1                  E01004228  \n",
       "138012                                            1                  E01004242  \n",
       "138022                                            1                  E01004325  \n",
       "138023                                            1                  E01004309  \n",
       "138027                                            1                  E01004254  \n",
       "\n",
       "[4967 rows x 32 columns]"
      ]
     },
     "execution_count": 2,
     "metadata": {},
     "output_type": "execute_result"
    }
   ],
   "source": [
    "df = pd.read_csv('AccidentsLondon_d5.csv', index_col=0)\n",
    "df"
   ]
  },
  {
   "cell_type": "code",
   "execution_count": 3,
   "metadata": {},
   "outputs": [
    {
     "name": "stdout",
     "output_type": "stream",
     "text": [
      "<class 'pandas.core.frame.DataFrame'>\n",
      "Int64Index: 4967 entries, 825 to 138027\n",
      "Data columns (total 32 columns):\n",
      " #   Column                                       Non-Null Count  Dtype  \n",
      "---  ------                                       --------------  -----  \n",
      " 0   Accident_Index                               4967 non-null   object \n",
      " 1   Location_Easting_OSGR                        4967 non-null   int64  \n",
      " 2   Location_Northing_OSGR                       4967 non-null   int64  \n",
      " 3   Longitude                                    4967 non-null   float64\n",
      " 4   Latitude                                     4967 non-null   float64\n",
      " 5   Police_Force                                 4967 non-null   int64  \n",
      " 6   Accident_Severity                            4967 non-null   int64  \n",
      " 7   Number_of_Vehicles                           4967 non-null   int64  \n",
      " 8   Number_of_Casualties                         4967 non-null   int64  \n",
      " 9   Date                                         4967 non-null   object \n",
      " 10  Day_of_Week                                  4967 non-null   int64  \n",
      " 11  Time                                         4967 non-null   object \n",
      " 12  Local_Authority_District                     4967 non-null   int64  \n",
      " 13  Local_Authority_Highway                      4967 non-null   object \n",
      " 14  1st_Road_Class                               4967 non-null   int64  \n",
      " 15  1st_Road_Number                              4967 non-null   int64  \n",
      " 16  Road_Type                                    4967 non-null   int64  \n",
      " 17  Speed_limit                                  4967 non-null   int64  \n",
      " 18  Junction_Detail                              4967 non-null   int64  \n",
      " 19  Junction_Control                             4967 non-null   int64  \n",
      " 20  2nd_Road_Class                               4967 non-null   int64  \n",
      " 21  2nd_Road_Number                              4967 non-null   int64  \n",
      " 22  Pedestrian_Crossing-Human_Control            4967 non-null   int64  \n",
      " 23  Pedestrian_Crossing-Physical_Facilities      4967 non-null   int64  \n",
      " 24  Light_Conditions                             4967 non-null   int64  \n",
      " 25  Weather_Conditions                           4967 non-null   int64  \n",
      " 26  Road_Surface_Conditions                      4967 non-null   int64  \n",
      " 27  Special_Conditions_at_Site                   4967 non-null   int64  \n",
      " 28  Carriageway_Hazards                          4967 non-null   int64  \n",
      " 29  Urban_or_Rural_Area                          4967 non-null   int64  \n",
      " 30  Did_Police_Officer_Attend_Scene_of_Accident  4967 non-null   int64  \n",
      " 31  LSOA_of_Accident_Location                    4961 non-null   object \n",
      "dtypes: float64(2), int64(25), object(5)\n",
      "memory usage: 1.3+ MB\n"
     ]
    }
   ],
   "source": [
    "df.info()"
   ]
  },
  {
   "cell_type": "code",
   "execution_count": null,
   "metadata": {},
   "outputs": [],
   "source": []
  },
  {
   "cell_type": "markdown",
   "metadata": {},
   "source": [
    "### Data Transformation\n",
    "\n",
    "This section includes the conversion of numerical values of the features to theirrespective categorical values."
   ]
  },
  {
   "cell_type": "code",
   "execution_count": 5,
   "metadata": {},
   "outputs": [],
   "source": [
    "all_sheets = pd.read_excel(\"metadata.xls\", sheet_name=None)"
   ]
  },
  {
   "cell_type": "code",
   "execution_count": 6,
   "metadata": {},
   "outputs": [],
   "source": [
    "mapper_police_force = all_sheets[\"Police Force\"].set_index(\"code\")[\"label\"].to_dict()\n",
    "df.Police_Force = df.Police_Force.map(mapper_police_force)"
   ]
  },
  {
   "cell_type": "code",
   "execution_count": 7,
   "metadata": {},
   "outputs": [],
   "source": [
    "mapper_accident_severity = all_sheets[\"Accident Severity\"].set_index(\"code\")[\"label\"].to_dict()\n",
    "df.Accident_Severity = df.Accident_Severity.map(mapper_accident_severity)"
   ]
  },
  {
   "cell_type": "code",
   "execution_count": 8,
   "metadata": {},
   "outputs": [
    {
     "data": {
      "text/plain": [
       "array(['Slight', 'Serious', 'Fatal'], dtype=object)"
      ]
     },
     "execution_count": 8,
     "metadata": {},
     "output_type": "execute_result"
    }
   ],
   "source": [
    "df.Accident_Severity.unique()"
   ]
  },
  {
   "cell_type": "code",
   "execution_count": 9,
   "metadata": {},
   "outputs": [
    {
     "data": {
      "text/plain": [
       "array([3, 7, 2, 4, 1, 5, 6], dtype=int64)"
      ]
     },
     "execution_count": 9,
     "metadata": {},
     "output_type": "execute_result"
    }
   ],
   "source": [
    "df.Day_of_Week.unique()"
   ]
  },
  {
   "cell_type": "code",
   "execution_count": 10,
   "metadata": {},
   "outputs": [],
   "source": [
    "mapper_week_days = all_sheets[\"Day of Week\"].set_index(\"code\")[\"label\"].to_dict()\n",
    "df.Day_of_Week = df.Day_of_Week.map(mapper_week_days)"
   ]
  },
  {
   "cell_type": "code",
   "execution_count": 11,
   "metadata": {},
   "outputs": [],
   "source": [
    "mapper_local_auth_dist = all_sheets[\"Local Authority (District)\"].set_index(\"code\")[\"label\"].to_dict()\n",
    "df.Local_Authority_District = df.Local_Authority_District.map(mapper_local_auth_dist)"
   ]
  },
  {
   "cell_type": "code",
   "execution_count": 12,
   "metadata": {},
   "outputs": [],
   "source": [
    "mapper_1st_road_cls = all_sheets[\"1st Road Class\"].set_index(\"code\")[\"label\"].to_dict()\n",
    "df['1st_Road_Class'] = df['1st_Road_Class'] .map(mapper_1st_road_cls)"
   ]
  },
  {
   "cell_type": "code",
   "execution_count": 13,
   "metadata": {},
   "outputs": [
    {
     "data": {
      "text/plain": [
       "array(['C', 'A', 'B', 'Unclassified'], dtype=object)"
      ]
     },
     "execution_count": 13,
     "metadata": {},
     "output_type": "execute_result"
    }
   ],
   "source": [
    "df['1st_Road_Class'] .unique()"
   ]
  },
  {
   "cell_type": "code",
   "execution_count": 14,
   "metadata": {},
   "outputs": [],
   "source": [
    "mapper_2nd_road_cls = all_sheets[\"2nd Road Class\"].set_index(\"code\")[\"label\"].to_dict()\n",
    "df['2nd_Road_Class'] = df['2nd_Road_Class'] .map(mapper_2nd_road_cls)"
   ]
  },
  {
   "cell_type": "code",
   "execution_count": 15,
   "metadata": {},
   "outputs": [
    {
     "data": {
      "text/plain": [
       "array(['A', nan, 'C', 'Unclassified', 'B'], dtype=object)"
      ]
     },
     "execution_count": 15,
     "metadata": {},
     "output_type": "execute_result"
    }
   ],
   "source": [
    "df['2nd_Road_Class'] .unique()"
   ]
  },
  {
   "cell_type": "code",
   "execution_count": 16,
   "metadata": {},
   "outputs": [],
   "source": [
    "mapper_road_type = all_sheets[\"Road Type\"].set_index(\"code\")[\"label\"].to_dict()\n",
    "df.Road_Type = df.Road_Type.map(mapper_road_type)"
   ]
  },
  {
   "cell_type": "code",
   "execution_count": 17,
   "metadata": {},
   "outputs": [
    {
     "data": {
      "text/plain": [
       "array(['Single carriageway', 'Dual carriageway', 'One way street',\n",
       "       'Roundabout', 'Slip road', 'Unknown'], dtype=object)"
      ]
     },
     "execution_count": 17,
     "metadata": {},
     "output_type": "execute_result"
    }
   ],
   "source": [
    "df.Road_Type.unique()"
   ]
  },
  {
   "cell_type": "code",
   "execution_count": 18,
   "metadata": {},
   "outputs": [],
   "source": [
    "mapper_Junction_Detail = all_sheets[\"Junction Detail\"].set_index(\"code\")[\"label\"].to_dict()\n",
    "df.Junction_Detail = df.Junction_Detail.map(mapper_Junction_Detail)"
   ]
  },
  {
   "cell_type": "code",
   "execution_count": 19,
   "metadata": {},
   "outputs": [
    {
     "data": {
      "text/plain": [
       "array(['T or staggered junction', 'Not at junction or within 20 metres',\n",
       "       'Crossroads', 'More than 4 arms (not roundabout)',\n",
       "       'Other junction', 'Slip road', 'Mini-roundabout',\n",
       "       'Private drive or entrance', 'Roundabout'], dtype=object)"
      ]
     },
     "execution_count": 19,
     "metadata": {},
     "output_type": "execute_result"
    }
   ],
   "source": [
    "df.Junction_Detail.unique()"
   ]
  },
  {
   "cell_type": "code",
   "execution_count": 20,
   "metadata": {},
   "outputs": [],
   "source": [
    "mapper_Junction_Control = all_sheets[\"Junction Control\"].set_index(\"code\")[\"label\"].to_dict()\n",
    "df.Junction_Control = df.Junction_Control.map(mapper_Junction_Control)"
   ]
  },
  {
   "cell_type": "code",
   "execution_count": 21,
   "metadata": {},
   "outputs": [],
   "source": [
    "mapper_Pedestrian_Crossing_Human = all_sheets[\"Ped Cross - Human\"].set_index(\"code\")[\"label\"].to_dict()\n",
    "df['Pedestrian_Crossing-Human_Control'] = df['Pedestrian_Crossing-Human_Control'].map(mapper_Pedestrian_Crossing_Human)"
   ]
  },
  {
   "cell_type": "code",
   "execution_count": 22,
   "metadata": {},
   "outputs": [],
   "source": [
    "mapper_Pedestrian_Crossing_phy = all_sheets[\"Ped Cross - Physical\"].set_index(\"code\")[\"label\"].to_dict()\n",
    "df['Pedestrian_Crossing-Physical_Facilities'] = df['Pedestrian_Crossing-Physical_Facilities'].map(mapper_Pedestrian_Crossing_phy)"
   ]
  },
  {
   "cell_type": "code",
   "execution_count": 23,
   "metadata": {},
   "outputs": [],
   "source": [
    "mapper_light_cond = all_sheets[\"Light Conditions\"].set_index(\"code\")[\"label\"].to_dict()\n",
    "df.Light_Conditions = df.Light_Conditions.map(mapper_light_cond)"
   ]
  },
  {
   "cell_type": "code",
   "execution_count": 24,
   "metadata": {},
   "outputs": [
    {
     "data": {
      "text/plain": [
       "array(['Daylight', 'Darkness - lights lit', 'Darkness - lighting unknown',\n",
       "       'Darkness - lights unlit', 'Darkness - no lighting'], dtype=object)"
      ]
     },
     "execution_count": 24,
     "metadata": {},
     "output_type": "execute_result"
    }
   ],
   "source": [
    "df.Light_Conditions.unique()"
   ]
  },
  {
   "cell_type": "code",
   "execution_count": 25,
   "metadata": {},
   "outputs": [],
   "source": [
    "mapper_Weather_Conditions = all_sheets[\"Weather\"].set_index(\"code\")[\"label\"].to_dict()\n",
    "df.Weather_Conditions = df.Weather_Conditions.map(mapper_Weather_Conditions)"
   ]
  },
  {
   "cell_type": "code",
   "execution_count": 26,
   "metadata": {},
   "outputs": [],
   "source": [
    "mapper_Road_Surface = all_sheets[\"Road Surface\"].set_index(\"code\")[\"label\"].to_dict()\n",
    "df.Road_Surface_Conditions = df.Road_Surface_Conditions.map(mapper_Road_Surface)"
   ]
  },
  {
   "cell_type": "code",
   "execution_count": 27,
   "metadata": {},
   "outputs": [],
   "source": [
    "mapper_Special_Conditions_at_Site = all_sheets[\"Special Conditions at Site\"].set_index(\"code\")[\"label\"].to_dict()\n",
    "df.Special_Conditions_at_Site = df.Special_Conditions_at_Site.map(mapper_Special_Conditions_at_Site)"
   ]
  },
  {
   "cell_type": "code",
   "execution_count": 28,
   "metadata": {},
   "outputs": [],
   "source": [
    "mapper_Carriageway_Hazards = all_sheets[\"Carriageway Hazards\"].set_index(\"code\")[\"label\"].to_dict()\n",
    "df.Carriageway_Hazards = df.Carriageway_Hazards.map(mapper_Carriageway_Hazards)"
   ]
  },
  {
   "cell_type": "code",
   "execution_count": 29,
   "metadata": {},
   "outputs": [],
   "source": [
    "mapper_Urban_or_Rural = all_sheets[\"Urban Rural\"].set_index(\"code\")[\"label\"].to_dict()\n",
    "df.Urban_or_Rural_Area = df.Urban_or_Rural_Area.map(mapper_Urban_or_Rural)"
   ]
  },
  {
   "cell_type": "code",
   "execution_count": 30,
   "metadata": {},
   "outputs": [],
   "source": [
    "mapper_pol_off_attend = all_sheets[\"Police Officer Attend\"].set_index(\"code\")[\"label\"].to_dict()\n",
    "df.Did_Police_Officer_Attend_Scene_of_Accident = df.Did_Police_Officer_Attend_Scene_of_Accident.map(mapper_pol_off_attend)"
   ]
  },
  {
   "cell_type": "code",
   "execution_count": 31,
   "metadata": {},
   "outputs": [
    {
     "data": {
      "text/plain": [
       "array(['E09000030'], dtype=object)"
      ]
     },
     "execution_count": 31,
     "metadata": {},
     "output_type": "execute_result"
    }
   ],
   "source": [
    "df['Local_Authority_Highway'].unique()"
   ]
  },
  {
   "cell_type": "code",
   "execution_count": 32,
   "metadata": {},
   "outputs": [],
   "source": [
    "df['Local_Authority_Highway'] = df['Local_Authority_Highway'].replace(['E09000030'], 'Tower Hamlets')"
   ]
  },
  {
   "cell_type": "code",
   "execution_count": 33,
   "metadata": {},
   "outputs": [
    {
     "data": {
      "text/plain": [
       "array(['Tower Hamlets'], dtype=object)"
      ]
     },
     "execution_count": 33,
     "metadata": {},
     "output_type": "execute_result"
    }
   ],
   "source": [
    "df['Local_Authority_Highway'].unique()"
   ]
  },
  {
   "cell_type": "code",
   "execution_count": 34,
   "metadata": {},
   "outputs": [
    {
     "data": {
      "text/html": [
       "<div>\n",
       "<style scoped>\n",
       "    .dataframe tbody tr th:only-of-type {\n",
       "        vertical-align: middle;\n",
       "    }\n",
       "\n",
       "    .dataframe tbody tr th {\n",
       "        vertical-align: top;\n",
       "    }\n",
       "\n",
       "    .dataframe thead th {\n",
       "        text-align: right;\n",
       "    }\n",
       "</style>\n",
       "<table border=\"1\" class=\"dataframe\">\n",
       "  <thead>\n",
       "    <tr style=\"text-align: right;\">\n",
       "      <th></th>\n",
       "      <th>Accident_Index</th>\n",
       "      <th>Location_Easting_OSGR</th>\n",
       "      <th>Location_Northing_OSGR</th>\n",
       "      <th>Longitude</th>\n",
       "      <th>Latitude</th>\n",
       "      <th>Police_Force</th>\n",
       "      <th>Accident_Severity</th>\n",
       "      <th>Number_of_Vehicles</th>\n",
       "      <th>Number_of_Casualties</th>\n",
       "      <th>Date</th>\n",
       "      <th>...</th>\n",
       "      <th>Pedestrian_Crossing-Human_Control</th>\n",
       "      <th>Pedestrian_Crossing-Physical_Facilities</th>\n",
       "      <th>Light_Conditions</th>\n",
       "      <th>Weather_Conditions</th>\n",
       "      <th>Road_Surface_Conditions</th>\n",
       "      <th>Special_Conditions_at_Site</th>\n",
       "      <th>Carriageway_Hazards</th>\n",
       "      <th>Urban_or_Rural_Area</th>\n",
       "      <th>Did_Police_Officer_Attend_Scene_of_Accident</th>\n",
       "      <th>LSOA_of_Accident_Location</th>\n",
       "    </tr>\n",
       "  </thead>\n",
       "  <tbody>\n",
       "    <tr>\n",
       "      <th>825</th>\n",
       "      <td>200501CP00086</td>\n",
       "      <td>533440</td>\n",
       "      <td>180700</td>\n",
       "      <td>-0.078534</td>\n",
       "      <td>51.509426</td>\n",
       "      <td>Metropolitan Police</td>\n",
       "      <td>Slight</td>\n",
       "      <td>2</td>\n",
       "      <td>1</td>\n",
       "      <td>17/05/2005</td>\n",
       "      <td>...</td>\n",
       "      <td>None within 50 metres</td>\n",
       "      <td>Pedestrian phase at traffic signal junction</td>\n",
       "      <td>Daylight</td>\n",
       "      <td>Fine no high winds</td>\n",
       "      <td>Dry</td>\n",
       "      <td>None</td>\n",
       "      <td>None</td>\n",
       "      <td>Urban</td>\n",
       "      <td>No</td>\n",
       "      <td>E01004293</td>\n",
       "    </tr>\n",
       "    <tr>\n",
       "      <th>4770</th>\n",
       "      <td>200501GD10196</td>\n",
       "      <td>536810</td>\n",
       "      <td>184340</td>\n",
       "      <td>-0.028590</td>\n",
       "      <td>51.541331</td>\n",
       "      <td>Metropolitan Police</td>\n",
       "      <td>Slight</td>\n",
       "      <td>1</td>\n",
       "      <td>1</td>\n",
       "      <td>11/01/2005</td>\n",
       "      <td>...</td>\n",
       "      <td>Control by school crossing patrol</td>\n",
       "      <td>No physical crossing facilities within 50 metres</td>\n",
       "      <td>Daylight</td>\n",
       "      <td>Fine no high winds</td>\n",
       "      <td>Dry</td>\n",
       "      <td>None</td>\n",
       "      <td>None</td>\n",
       "      <td>Urban</td>\n",
       "      <td>No - accident was reported using a self comple...</td>\n",
       "      <td>E01004223</td>\n",
       "    </tr>\n",
       "    <tr>\n",
       "      <th>4840</th>\n",
       "      <td>200501GD10277</td>\n",
       "      <td>534220</td>\n",
       "      <td>183140</td>\n",
       "      <td>-0.066373</td>\n",
       "      <td>51.531168</td>\n",
       "      <td>Metropolitan Police</td>\n",
       "      <td>Slight</td>\n",
       "      <td>2</td>\n",
       "      <td>1</td>\n",
       "      <td>02/04/2005</td>\n",
       "      <td>...</td>\n",
       "      <td>None within 50 metres</td>\n",
       "      <td>Zebra</td>\n",
       "      <td>Daylight</td>\n",
       "      <td>Fine no high winds</td>\n",
       "      <td>Dry</td>\n",
       "      <td>None</td>\n",
       "      <td>None</td>\n",
       "      <td>Urban</td>\n",
       "      <td>No</td>\n",
       "      <td>E01001774</td>\n",
       "    </tr>\n",
       "    <tr>\n",
       "      <th>4849</th>\n",
       "      <td>200501GD10289</td>\n",
       "      <td>537190</td>\n",
       "      <td>183530</td>\n",
       "      <td>-0.023430</td>\n",
       "      <td>51.533960</td>\n",
       "      <td>Metropolitan Police</td>\n",
       "      <td>Slight</td>\n",
       "      <td>2</td>\n",
       "      <td>1</td>\n",
       "      <td>02/04/2005</td>\n",
       "      <td>...</td>\n",
       "      <td>None within 50 metres</td>\n",
       "      <td>No physical crossing facilities within 50 metres</td>\n",
       "      <td>Daylight</td>\n",
       "      <td>Fine no high winds</td>\n",
       "      <td>Dry</td>\n",
       "      <td>None</td>\n",
       "      <td>None</td>\n",
       "      <td>Urban</td>\n",
       "      <td>Yes</td>\n",
       "      <td>E01004227</td>\n",
       "    </tr>\n",
       "    <tr>\n",
       "      <th>4967</th>\n",
       "      <td>200501GD10433</td>\n",
       "      <td>534220</td>\n",
       "      <td>183140</td>\n",
       "      <td>-0.066373</td>\n",
       "      <td>51.531168</td>\n",
       "      <td>Metropolitan Police</td>\n",
       "      <td>Slight</td>\n",
       "      <td>2</td>\n",
       "      <td>1</td>\n",
       "      <td>16/05/2005</td>\n",
       "      <td>...</td>\n",
       "      <td>None within 50 metres</td>\n",
       "      <td>No physical crossing facilities within 50 metres</td>\n",
       "      <td>Daylight</td>\n",
       "      <td>Fine no high winds</td>\n",
       "      <td>Dry</td>\n",
       "      <td>None</td>\n",
       "      <td>None</td>\n",
       "      <td>Urban</td>\n",
       "      <td>Yes</td>\n",
       "      <td>E01001774</td>\n",
       "    </tr>\n",
       "  </tbody>\n",
       "</table>\n",
       "<p>5 rows × 32 columns</p>\n",
       "</div>"
      ],
      "text/plain": [
       "     Accident_Index  Location_Easting_OSGR  Location_Northing_OSGR  Longitude  \\\n",
       "825   200501CP00086                 533440                  180700  -0.078534   \n",
       "4770  200501GD10196                 536810                  184340  -0.028590   \n",
       "4840  200501GD10277                 534220                  183140  -0.066373   \n",
       "4849  200501GD10289                 537190                  183530  -0.023430   \n",
       "4967  200501GD10433                 534220                  183140  -0.066373   \n",
       "\n",
       "       Latitude         Police_Force Accident_Severity  Number_of_Vehicles  \\\n",
       "825   51.509426  Metropolitan Police            Slight                   2   \n",
       "4770  51.541331  Metropolitan Police            Slight                   1   \n",
       "4840  51.531168  Metropolitan Police            Slight                   2   \n",
       "4849  51.533960  Metropolitan Police            Slight                   2   \n",
       "4967  51.531168  Metropolitan Police            Slight                   2   \n",
       "\n",
       "      Number_of_Casualties        Date  ...  \\\n",
       "825                      1  17/05/2005  ...   \n",
       "4770                     1  11/01/2005  ...   \n",
       "4840                     1  02/04/2005  ...   \n",
       "4849                     1  02/04/2005  ...   \n",
       "4967                     1  16/05/2005  ...   \n",
       "\n",
       "      Pedestrian_Crossing-Human_Control  \\\n",
       "825              None within 50 metres    \n",
       "4770  Control by school crossing patrol   \n",
       "4840             None within 50 metres    \n",
       "4849             None within 50 metres    \n",
       "4967             None within 50 metres    \n",
       "\n",
       "               Pedestrian_Crossing-Physical_Facilities Light_Conditions  \\\n",
       "825        Pedestrian phase at traffic signal junction         Daylight   \n",
       "4770  No physical crossing facilities within 50 metres         Daylight   \n",
       "4840                                             Zebra         Daylight   \n",
       "4849  No physical crossing facilities within 50 metres         Daylight   \n",
       "4967  No physical crossing facilities within 50 metres         Daylight   \n",
       "\n",
       "      Weather_Conditions Road_Surface_Conditions  Special_Conditions_at_Site  \\\n",
       "825   Fine no high winds                     Dry                        None   \n",
       "4770  Fine no high winds                     Dry                        None   \n",
       "4840  Fine no high winds                     Dry                        None   \n",
       "4849  Fine no high winds                     Dry                        None   \n",
       "4967  Fine no high winds                     Dry                        None   \n",
       "\n",
       "     Carriageway_Hazards  Urban_or_Rural_Area  \\\n",
       "825                 None                Urban   \n",
       "4770                None                Urban   \n",
       "4840                None                Urban   \n",
       "4849                None                Urban   \n",
       "4967                None                Urban   \n",
       "\n",
       "            Did_Police_Officer_Attend_Scene_of_Accident  \\\n",
       "825                                                  No   \n",
       "4770  No - accident was reported using a self comple...   \n",
       "4840                                                 No   \n",
       "4849                                                Yes   \n",
       "4967                                                Yes   \n",
       "\n",
       "     LSOA_of_Accident_Location  \n",
       "825                  E01004293  \n",
       "4770                 E01004223  \n",
       "4840                 E01001774  \n",
       "4849                 E01004227  \n",
       "4967                 E01001774  \n",
       "\n",
       "[5 rows x 32 columns]"
      ]
     },
     "execution_count": 34,
     "metadata": {},
     "output_type": "execute_result"
    }
   ],
   "source": [
    "df.head()"
   ]
  },
  {
   "cell_type": "code",
   "execution_count": 35,
   "metadata": {},
   "outputs": [
    {
     "name": "stdout",
     "output_type": "stream",
     "text": [
      "<class 'pandas.core.frame.DataFrame'>\n",
      "Int64Index: 4967 entries, 825 to 138027\n",
      "Data columns (total 32 columns):\n",
      " #   Column                                       Non-Null Count  Dtype  \n",
      "---  ------                                       --------------  -----  \n",
      " 0   Accident_Index                               4967 non-null   object \n",
      " 1   Location_Easting_OSGR                        4967 non-null   int64  \n",
      " 2   Location_Northing_OSGR                       4967 non-null   int64  \n",
      " 3   Longitude                                    4967 non-null   float64\n",
      " 4   Latitude                                     4967 non-null   float64\n",
      " 5   Police_Force                                 4967 non-null   object \n",
      " 6   Accident_Severity                            4967 non-null   object \n",
      " 7   Number_of_Vehicles                           4967 non-null   int64  \n",
      " 8   Number_of_Casualties                         4967 non-null   int64  \n",
      " 9   Date                                         4967 non-null   object \n",
      " 10  Day_of_Week                                  4967 non-null   object \n",
      " 11  Time                                         4967 non-null   object \n",
      " 12  Local_Authority_District                     4967 non-null   object \n",
      " 13  Local_Authority_Highway                      4967 non-null   object \n",
      " 14  1st_Road_Class                               4967 non-null   object \n",
      " 15  1st_Road_Number                              4967 non-null   int64  \n",
      " 16  Road_Type                                    4967 non-null   object \n",
      " 17  Speed_limit                                  4967 non-null   int64  \n",
      " 18  Junction_Detail                              4967 non-null   object \n",
      " 19  Junction_Control                             4967 non-null   object \n",
      " 20  2nd_Road_Class                               3826 non-null   object \n",
      " 21  2nd_Road_Number                              4967 non-null   int64  \n",
      " 22  Pedestrian_Crossing-Human_Control            4967 non-null   object \n",
      " 23  Pedestrian_Crossing-Physical_Facilities      4967 non-null   object \n",
      " 24  Light_Conditions                             4967 non-null   object \n",
      " 25  Weather_Conditions                           4967 non-null   object \n",
      " 26  Road_Surface_Conditions                      4967 non-null   object \n",
      " 27  Special_Conditions_at_Site                   4967 non-null   object \n",
      " 28  Carriageway_Hazards                          4967 non-null   object \n",
      " 29  Urban_or_Rural_Area                          4967 non-null   object \n",
      " 30  Did_Police_Officer_Attend_Scene_of_Accident  4967 non-null   object \n",
      " 31  LSOA_of_Accident_Location                    4961 non-null   object \n",
      "dtypes: float64(2), int64(7), object(23)\n",
      "memory usage: 1.3+ MB\n"
     ]
    }
   ],
   "source": [
    "df.info()"
   ]
  },
  {
   "cell_type": "markdown",
   "metadata": {},
   "source": [
    "### Data Preprocessing"
   ]
  },
  {
   "cell_type": "code",
   "execution_count": 36,
   "metadata": {},
   "outputs": [],
   "source": [
    "missing_values = df.isnull().sum()"
   ]
  },
  {
   "cell_type": "code",
   "execution_count": 37,
   "metadata": {
    "scrolled": false
   },
   "outputs": [
    {
     "data": {
      "text/plain": [
       "<AxesSubplot:>"
      ]
     },
     "execution_count": 37,
     "metadata": {},
     "output_type": "execute_result"
    },
    {
     "data": {
      "image/png": "[encoded data removed]",
      "text/plain": [
       "<Figure size 432x288 with 1 Axes>"
      ]
     },
     "metadata": {
      "needs_background": "light"
     },
     "output_type": "display_data"
    }
   ],
   "source": [
    "# Percentage of missing values in each column\n",
    "(missing_values / len(df) * 100).plot.bar()"
   ]
  },
  {
   "cell_type": "code",
   "execution_count": 38,
   "metadata": {},
   "outputs": [
    {
     "data": {
      "text/plain": [
       "array(['A', nan, 'C', 'Unclassified', 'B'], dtype=object)"
      ]
     },
     "execution_count": 38,
     "metadata": {},
     "output_type": "execute_result"
    }
   ],
   "source": [
    "df['2nd_Road_Class'].unique()"
   ]
  },
  {
   "cell_type": "code",
   "execution_count": 39,
   "metadata": {},
   "outputs": [
    {
     "data": {
      "text/plain": [
       "'Unclassified'"
      ]
     },
     "execution_count": 39,
     "metadata": {},
     "output_type": "execute_result"
    }
   ],
   "source": [
    "Mode_Category = df['2nd_Road_Class'].mode()[0]\n",
    "Mode_Category"
   ]
  },
  {
   "cell_type": "code",
   "execution_count": 40,
   "metadata": {},
   "outputs": [],
   "source": [
    "df['2nd_Road_Class'].fillna(Mode_Category,inplace=True)"
   ]
  },
  {
   "cell_type": "code",
   "execution_count": 41,
   "metadata": {},
   "outputs": [],
   "source": [
    "df.dropna(subset=['LSOA_of_Accident_Location'], inplace=True)"
   ]
  },
  {
   "cell_type": "code",
   "execution_count": 42,
   "metadata": {},
   "outputs": [
    {
     "data": {
      "text/plain": [
       "Accident_Index                                 0\n",
       "Location_Easting_OSGR                          0\n",
       "Location_Northing_OSGR                         0\n",
       "Longitude                                      0\n",
       "Latitude                                       0\n",
       "Police_Force                                   0\n",
       "Accident_Severity                              0\n",
       "Number_of_Vehicles                             0\n",
       "Number_of_Casualties                           0\n",
       "Date                                           0\n",
       "Day_of_Week                                    0\n",
       "Time                                           0\n",
       "Local_Authority_District                       0\n",
       "Local_Authority_Highway                        0\n",
       "1st_Road_Class                                 0\n",
       "1st_Road_Number                                0\n",
       "Road_Type                                      0\n",
       "Speed_limit                                    0\n",
       "Junction_Detail                                0\n",
       "Junction_Control                               0\n",
       "2nd_Road_Class                                 0\n",
       "2nd_Road_Number                                0\n",
       "Pedestrian_Crossing-Human_Control              0\n",
       "Pedestrian_Crossing-Physical_Facilities        0\n",
       "Light_Conditions                               0\n",
       "Weather_Conditions                             0\n",
       "Road_Surface_Conditions                        0\n",
       "Special_Conditions_at_Site                     0\n",
       "Carriageway_Hazards                            0\n",
       "Urban_or_Rural_Area                            0\n",
       "Did_Police_Officer_Attend_Scene_of_Accident    0\n",
       "LSOA_of_Accident_Location                      0\n",
       "dtype: int64"
      ]
     },
     "execution_count": 42,
     "metadata": {},
     "output_type": "execute_result"
    }
   ],
   "source": [
    "df.isnull().sum()"
   ]
  },
  {
   "cell_type": "markdown",
   "metadata": {},
   "source": [
    "### Exploratory data Analysis"
   ]
  },
  {
   "cell_type": "code",
   "execution_count": 43,
   "metadata": {
    "scrolled": false
   },
   "outputs": [
    {
     "data": {
      "image/png": "[encoded data removed]",
      "text/plain": [
       "<Figure size 720x576 with 2 Axes>"
      ]
     },
     "metadata": {
      "needs_background": "light"
     },
     "output_type": "display_data"
    }
   ],
   "source": [
    "# Correlation Matrix\n",
    "correlation_matrix = df.corr()\n",
    "plt.figure(figsize=(10, 8))\n",
    "sns.heatmap(correlation_matrix, annot=True, cmap=\"coolwarm\", fmt=\".2f\", linewidths=0.5)\n",
    "plt.title(\"Correlation Matrix\")\n",
    "plt.show()"
   ]
  },
  {
   "cell_type": "code",
   "execution_count": 44,
   "metadata": {},
   "outputs": [
    {
     "data": {
      "image/png": "[encoded data removed]",
      "text/plain": [
       "<Figure size 432x288 with 1 Axes>"
      ]
     },
     "metadata": {
      "needs_background": "light"
     },
     "output_type": "display_data"
    }
   ],
   "source": [
    "# Distribution of Severity\n",
    "plt.figure(figsize=(6, 4))\n",
    "sns.countplot(df['Accident_Severity'])\n",
    "plt.title(\"Distribution of Severity\")\n",
    "plt.show()"
   ]
  },
  {
   "cell_type": "code",
   "execution_count": 45,
   "metadata": {},
   "outputs": [
    {
     "data": {
      "image/png": "[encoded data removed]",
      "text/plain": [
       "<Figure size 576x360 with 1 Axes>"
      ]
     },
     "metadata": {
      "needs_background": "light"
     },
     "output_type": "display_data"
    }
   ],
   "source": [
    "# Distribution of Accident Day of the Week\n",
    "weekday_order = [\"Monday\", \"Tuesday\", \"Wednesday\", \"Thursday\", \"Friday\", \"Saturday\", \"Sunday\"]\n",
    "plt.figure(figsize=(8, 5))\n",
    "sns.countplot(df['Day_of_Week'], order=weekday_order)\n",
    "plt.title(\"Distribution of Accident Day of the Week\")\n",
    "plt.xlabel(\"Day of the Week\")\n",
    "plt.ylabel(\"Count\")\n",
    "plt.show()"
   ]
  },
  {
   "cell_type": "code",
   "execution_count": 46,
   "metadata": {},
   "outputs": [
    {
     "data": {
      "image/png": "[encoded data removed]",
      "text/plain": [
       "<Figure size 576x360 with 1 Axes>"
      ]
     },
     "metadata": {
      "needs_background": "light"
     },
     "output_type": "display_data"
    }
   ],
   "source": [
    "# Severity vs. Light Conditions\n",
    "plt.figure(figsize=(8, 5))\n",
    "sns.countplot(x='Accident_Severity', hue='Light_Conditions', data=df)\n",
    "plt.title(\"Severity vs. Light Conditions\")\n",
    "plt.xlabel(\"Severity\")\n",
    "plt.ylabel(\"Count\")\n",
    "plt.legend(title=\"Light Conditions\", loc=\"upper right\")\n",
    "plt.show()"
   ]
  },
  {
   "cell_type": "code",
   "execution_count": 47,
   "metadata": {},
   "outputs": [
    {
     "data": {
      "image/png": "[encoded data removed]",
      "text/plain": [
       "<Figure size 576x360 with 1 Axes>"
      ]
     },
     "metadata": {
      "needs_background": "light"
     },
     "output_type": "display_data"
    }
   ],
   "source": [
    "# Severity vs. Road Conditions\n",
    "plt.figure(figsize=(8, 5))\n",
    "sns.countplot(x='Accident_Severity', hue='Road_Surface_Conditions', data=df)\n",
    "plt.title(\"Severity vs. Road Conditions\")\n",
    "plt.xlabel(\"Severity\")\n",
    "plt.ylabel(\"Count\")\n",
    "plt.legend(title=\"Road Conditions\", loc=\"upper right\")\n",
    "plt.show()"
   ]
  },
  {
   "cell_type": "code",
   "execution_count": 48,
   "metadata": {},
   "outputs": [
    {
     "data": {
      "image/png": "[encoded data removed]",
      "text/plain": [
       "<Figure size 576x360 with 1 Axes>"
      ]
     },
     "metadata": {
      "needs_background": "light"
     },
     "output_type": "display_data"
    }
   ],
   "source": [
    "# Severity vs. Weather Conditions\n",
    "plt.figure(figsize=(8, 5))\n",
    "sns.countplot(x='Accident_Severity', hue='Weather_Conditions', data=df)\n",
    "plt.title(\"Severity vs. Weather Conditions\")\n",
    "plt.xlabel(\"Severity\")\n",
    "plt.ylabel(\"Count\")\n",
    "plt.legend(title=\"Weather Conditions\", loc=\"upper right\")\n",
    "plt.show()"
   ]
  },
  {
   "cell_type": "code",
   "execution_count": 49,
   "metadata": {},
   "outputs": [
    {
     "data": {
      "image/png": "[encoded data removed]",
      "text/plain": [
       "<Figure size 432x432 with 1 Axes>"
      ]
     },
     "metadata": {},
     "output_type": "display_data"
    }
   ],
   "source": [
    "# Pie Chart: Distribution of Collision Types\n",
    "collision_type_counts = df['Urban_or_Rural_Area'].value_counts()\n",
    "plt.figure(figsize=(6, 6))\n",
    "plt.pie(collision_type_counts, labels=collision_type_counts.index, autopct='%1.1f%%', startangle=90)\n",
    "plt.title(\"Distribution of Accidents area wise\")\n",
    "plt.axis('equal')\n",
    "plt.show()"
   ]
  },
  {
   "cell_type": "code",
   "execution_count": 50,
   "metadata": {},
   "outputs": [
    {
     "data": {
      "image/png": "[encoded data removed]",
      "text/plain": [
       "<Figure size 720x432 with 1 Axes>"
      ]
     },
     "metadata": {
      "needs_background": "light"
     },
     "output_type": "display_data"
    }
   ],
   "source": [
    "plt.figure(figsize=(10, 6))\n",
    "sns.countplot(x='Road_Surface_Conditions', hue='Accident_Severity', data=df)\n",
    "plt.title(\"Accident Severity by Road Surface Conditions\")\n",
    "plt.xlabel(\"Road Surface Conditions\")\n",
    "plt.ylabel(\"Count\")\n",
    "plt.legend(title='Accident Severity', labels=['Fatal', 'Serious', 'Slight'])\n",
    "plt.show()"
   ]
  },
  {
   "cell_type": "code",
   "execution_count": 51,
   "metadata": {},
   "outputs": [
    {
     "data": {
      "image/png": "[encoded data removed]",
      "text/plain": [
       "<Figure size 720x432 with 1 Axes>"
      ]
     },
     "metadata": {
      "needs_background": "light"
     },
     "output_type": "display_data"
    }
   ],
   "source": [
    "plt.figure(figsize=(10, 6))\n",
    "sns.scatterplot(x='Number_of_Casualties', y='Speed_limit', data=df)\n",
    "plt.title(\"Number of Casualties vs. Speed Limit\")\n",
    "plt.xlabel(\"Number of Casualties\")\n",
    "plt.ylabel(\"Speed Limit\")\n",
    "plt.show()"
   ]
  },
  {
   "cell_type": "code",
   "execution_count": 52,
   "metadata": {},
   "outputs": [
    {
     "data": {
      "image/png": "[encoded data removed]",
      "text/plain": [
       "<Figure size 720x432 with 1 Axes>"
      ]
     },
     "metadata": {
      "needs_background": "light"
     },
     "output_type": "display_data"
    }
   ],
   "source": [
    "plt.figure(figsize=(10, 6))\n",
    "sns.countplot(x='Road_Type', hue='Accident_Severity', data=df)\n",
    "plt.title(\"Accident Severity by Road Type\")\n",
    "plt.xlabel(\"Road Type\")\n",
    "plt.ylabel(\"Count\")\n",
    "plt.legend(title=\"Accident Severity\", loc='upper right', labels=['Fatal', 'Serious', 'Slight'])\n",
    "plt.xticks(rotation=45, ha='right')\n",
    "plt.show()"
   ]
  },
  {
   "cell_type": "code",
   "execution_count": 53,
   "metadata": {},
   "outputs": [
    {
     "data": {
      "text/plain": [
       "Text(0, 0.5, 'Count')"
      ]
     },
     "execution_count": 53,
     "metadata": {},
     "output_type": "execute_result"
    },
    {
     "data": {
      "image/png": "[encoded data removed]",
      "text/plain": [
       "<Figure size 864x432 with 1 Axes>"
      ]
     },
     "metadata": {
      "needs_background": "light"
     },
     "output_type": "display_data"
    }
   ],
   "source": [
    "plt.figure(figsize=(12, 6))\n",
    "\n",
    "# Histogram for Number of Vehicles\n",
    "plt.subplot(2, 2, 1)\n",
    "sns.histplot(df['Number_of_Vehicles'], bins=20, kde=True)\n",
    "plt.title(\"Distribution of Number of Vehicles\")\n",
    "plt.xlabel(\"Number of Vehicles\")\n",
    "plt.ylabel(\"Count\")"
   ]
  },
  {
   "cell_type": "code",
   "execution_count": 54,
   "metadata": {},
   "outputs": [
    {
     "data": {
      "text/plain": [
       "Text(0, 0.5, 'Count')"
      ]
     },
     "execution_count": 54,
     "metadata": {},
     "output_type": "execute_result"
    },
    {
     "data": {
      "image/png": "[encoded data removed]",
      "text/plain": [
       "<Figure size 864x432 with 1 Axes>"
      ]
     },
     "metadata": {
      "needs_background": "light"
     },
     "output_type": "display_data"
    }
   ],
   "source": [
    "# Histogram for Number of Casualties\n",
    "plt.figure(figsize=(12, 6))\n",
    "plt.subplot(2, 2, 2)\n",
    "sns.histplot(df['Number_of_Casualties'], bins=10, kde=True)\n",
    "plt.title(\"Distribution of Number of Casualties\")\n",
    "plt.xlabel(\"Number of Casualties\")\n",
    "plt.ylabel(\"Count\")"
   ]
  },
  {
   "cell_type": "code",
   "execution_count": 55,
   "metadata": {},
   "outputs": [
    {
     "data": {
      "image/png": "[encoded data removed]",
      "text/plain": [
       "<Figure size 864x432 with 1 Axes>"
      ]
     },
     "metadata": {
      "needs_background": "light"
     },
     "output_type": "display_data"
    }
   ],
   "source": [
    "# Histogram for Speed Limit\n",
    "plt.figure(figsize=(12, 6))\n",
    "plt.subplot(2, 2, 3)\n",
    "sns.histplot(df['Speed_limit'], bins=10, kde=True)\n",
    "plt.title(\"Distribution of Speed Limit\")\n",
    "plt.xlabel(\"Speed Limit\")\n",
    "plt.ylabel(\"Count\")\n",
    "\n",
    "plt.tight_layout()\n",
    "plt.show()"
   ]
  },
  {
   "cell_type": "markdown",
   "metadata": {},
   "source": [
    "### Data Preparation"
   ]
  },
  {
   "cell_type": "code",
   "execution_count": 56,
   "metadata": {},
   "outputs": [
    {
     "data": {
      "text/plain": [
       "Index(['Accident_Index', 'Police_Force', 'Accident_Severity', 'Date',\n",
       "       'Day_of_Week', 'Time', 'Local_Authority_District',\n",
       "       'Local_Authority_Highway', '1st_Road_Class', 'Road_Type',\n",
       "       'Junction_Detail', 'Junction_Control', '2nd_Road_Class',\n",
       "       'Pedestrian_Crossing-Human_Control',\n",
       "       'Pedestrian_Crossing-Physical_Facilities', 'Light_Conditions',\n",
       "       'Weather_Conditions', 'Road_Surface_Conditions',\n",
       "       'Special_Conditions_at_Site', 'Carriageway_Hazards',\n",
       "       'Urban_or_Rural_Area', 'Did_Police_Officer_Attend_Scene_of_Accident',\n",
       "       'LSOA_of_Accident_Location'],\n",
       "      dtype='object')"
      ]
     },
     "execution_count": 56,
     "metadata": {},
     "output_type": "execute_result"
    }
   ],
   "source": [
    "cols = df.select_dtypes(\"O\").columns\n",
    "cols"
   ]
  },
  {
   "cell_type": "code",
   "execution_count": 57,
   "metadata": {},
   "outputs": [
    {
     "data": {
      "text/html": [
       "<div>\n",
       "<style scoped>\n",
       "    .dataframe tbody tr th:only-of-type {\n",
       "        vertical-align: middle;\n",
       "    }\n",
       "\n",
       "    .dataframe tbody tr th {\n",
       "        vertical-align: top;\n",
       "    }\n",
       "\n",
       "    .dataframe thead th {\n",
       "        text-align: right;\n",
       "    }\n",
       "</style>\n",
       "<table border=\"1\" class=\"dataframe\">\n",
       "  <thead>\n",
       "    <tr style=\"text-align: right;\">\n",
       "      <th></th>\n",
       "      <th>Accident_Index</th>\n",
       "      <th>Location_Easting_OSGR</th>\n",
       "      <th>Location_Northing_OSGR</th>\n",
       "      <th>Longitude</th>\n",
       "      <th>Latitude</th>\n",
       "      <th>Police_Force</th>\n",
       "      <th>Accident_Severity</th>\n",
       "      <th>Number_of_Vehicles</th>\n",
       "      <th>Number_of_Casualties</th>\n",
       "      <th>Date</th>\n",
       "      <th>...</th>\n",
       "      <th>Pedestrian_Crossing-Human_Control</th>\n",
       "      <th>Pedestrian_Crossing-Physical_Facilities</th>\n",
       "      <th>Light_Conditions</th>\n",
       "      <th>Weather_Conditions</th>\n",
       "      <th>Road_Surface_Conditions</th>\n",
       "      <th>Special_Conditions_at_Site</th>\n",
       "      <th>Carriageway_Hazards</th>\n",
       "      <th>Urban_or_Rural_Area</th>\n",
       "      <th>Did_Police_Officer_Attend_Scene_of_Accident</th>\n",
       "      <th>LSOA_of_Accident_Location</th>\n",
       "    </tr>\n",
       "  </thead>\n",
       "  <tbody>\n",
       "    <tr>\n",
       "      <th>825</th>\n",
       "      <td>0</td>\n",
       "      <td>533440</td>\n",
       "      <td>180700</td>\n",
       "      <td>-0.078534</td>\n",
       "      <td>51.509426</td>\n",
       "      <td>0</td>\n",
       "      <td>2</td>\n",
       "      <td>2</td>\n",
       "      <td>1</td>\n",
       "      <td>1024</td>\n",
       "      <td>...</td>\n",
       "      <td>2</td>\n",
       "      <td>3</td>\n",
       "      <td>4</td>\n",
       "      <td>1</td>\n",
       "      <td>0</td>\n",
       "      <td>3</td>\n",
       "      <td>1</td>\n",
       "      <td>0</td>\n",
       "      <td>0</td>\n",
       "      <td>100</td>\n",
       "    </tr>\n",
       "    <tr>\n",
       "      <th>4770</th>\n",
       "      <td>1</td>\n",
       "      <td>536810</td>\n",
       "      <td>184340</td>\n",
       "      <td>-0.028590</td>\n",
       "      <td>51.541331</td>\n",
       "      <td>0</td>\n",
       "      <td>2</td>\n",
       "      <td>1</td>\n",
       "      <td>1</td>\n",
       "      <td>624</td>\n",
       "      <td>...</td>\n",
       "      <td>1</td>\n",
       "      <td>2</td>\n",
       "      <td>4</td>\n",
       "      <td>1</td>\n",
       "      <td>0</td>\n",
       "      <td>3</td>\n",
       "      <td>1</td>\n",
       "      <td>0</td>\n",
       "      <td>1</td>\n",
       "      <td>31</td>\n",
       "    </tr>\n",
       "    <tr>\n",
       "      <th>4840</th>\n",
       "      <td>2</td>\n",
       "      <td>534220</td>\n",
       "      <td>183140</td>\n",
       "      <td>-0.066373</td>\n",
       "      <td>51.531168</td>\n",
       "      <td>0</td>\n",
       "      <td>2</td>\n",
       "      <td>2</td>\n",
       "      <td>1</td>\n",
       "      <td>80</td>\n",
       "      <td>...</td>\n",
       "      <td>2</td>\n",
       "      <td>5</td>\n",
       "      <td>4</td>\n",
       "      <td>1</td>\n",
       "      <td>0</td>\n",
       "      <td>3</td>\n",
       "      <td>1</td>\n",
       "      <td>0</td>\n",
       "      <td>0</td>\n",
       "      <td>2</td>\n",
       "    </tr>\n",
       "    <tr>\n",
       "      <th>4849</th>\n",
       "      <td>3</td>\n",
       "      <td>537190</td>\n",
       "      <td>183530</td>\n",
       "      <td>-0.023430</td>\n",
       "      <td>51.533960</td>\n",
       "      <td>0</td>\n",
       "      <td>2</td>\n",
       "      <td>2</td>\n",
       "      <td>1</td>\n",
       "      <td>80</td>\n",
       "      <td>...</td>\n",
       "      <td>2</td>\n",
       "      <td>2</td>\n",
       "      <td>4</td>\n",
       "      <td>1</td>\n",
       "      <td>0</td>\n",
       "      <td>3</td>\n",
       "      <td>1</td>\n",
       "      <td>0</td>\n",
       "      <td>2</td>\n",
       "      <td>35</td>\n",
       "    </tr>\n",
       "    <tr>\n",
       "      <th>4967</th>\n",
       "      <td>4</td>\n",
       "      <td>534220</td>\n",
       "      <td>183140</td>\n",
       "      <td>-0.066373</td>\n",
       "      <td>51.531168</td>\n",
       "      <td>0</td>\n",
       "      <td>2</td>\n",
       "      <td>2</td>\n",
       "      <td>1</td>\n",
       "      <td>961</td>\n",
       "      <td>...</td>\n",
       "      <td>2</td>\n",
       "      <td>2</td>\n",
       "      <td>4</td>\n",
       "      <td>1</td>\n",
       "      <td>0</td>\n",
       "      <td>3</td>\n",
       "      <td>1</td>\n",
       "      <td>0</td>\n",
       "      <td>2</td>\n",
       "      <td>2</td>\n",
       "    </tr>\n",
       "  </tbody>\n",
       "</table>\n",
       "<p>5 rows × 32 columns</p>\n",
       "</div>"
      ],
      "text/plain": [
       "      Accident_Index  Location_Easting_OSGR  Location_Northing_OSGR  \\\n",
       "825                0                 533440                  180700   \n",
       "4770               1                 536810                  184340   \n",
       "4840               2                 534220                  183140   \n",
       "4849               3                 537190                  183530   \n",
       "4967               4                 534220                  183140   \n",
       "\n",
       "      Longitude   Latitude  Police_Force  Accident_Severity  \\\n",
       "825   -0.078534  51.509426             0                  2   \n",
       "4770  -0.028590  51.541331             0                  2   \n",
       "4840  -0.066373  51.531168             0                  2   \n",
       "4849  -0.023430  51.533960             0                  2   \n",
       "4967  -0.066373  51.531168             0                  2   \n",
       "\n",
       "      Number_of_Vehicles  Number_of_Casualties  Date  ...  \\\n",
       "825                    2                     1  1024  ...   \n",
       "4770                   1                     1   624  ...   \n",
       "4840                   2                     1    80  ...   \n",
       "4849                   2                     1    80  ...   \n",
       "4967                   2                     1   961  ...   \n",
       "\n",
       "      Pedestrian_Crossing-Human_Control  \\\n",
       "825                                   2   \n",
       "4770                                  1   \n",
       "4840                                  2   \n",
       "4849                                  2   \n",
       "4967                                  2   \n",
       "\n",
       "      Pedestrian_Crossing-Physical_Facilities  Light_Conditions  \\\n",
       "825                                         3                 4   \n",
       "4770                                        2                 4   \n",
       "4840                                        5                 4   \n",
       "4849                                        2                 4   \n",
       "4967                                        2                 4   \n",
       "\n",
       "      Weather_Conditions  Road_Surface_Conditions  Special_Conditions_at_Site  \\\n",
       "825                    1                        0                           3   \n",
       "4770                   1                        0                           3   \n",
       "4840                   1                        0                           3   \n",
       "4849                   1                        0                           3   \n",
       "4967                   1                        0                           3   \n",
       "\n",
       "      Carriageway_Hazards  Urban_or_Rural_Area  \\\n",
       "825                     1                    0   \n",
       "4770                    1                    0   \n",
       "4840                    1                    0   \n",
       "4849                    1                    0   \n",
       "4967                    1                    0   \n",
       "\n",
       "      Did_Police_Officer_Attend_Scene_of_Accident  LSOA_of_Accident_Location  \n",
       "825                                             0                        100  \n",
       "4770                                            1                         31  \n",
       "4840                                            0                          2  \n",
       "4849                                            2                         35  \n",
       "4967                                            2                          2  \n",
       "\n",
       "[5 rows x 32 columns]"
      ]
     },
     "execution_count": 57,
     "metadata": {},
     "output_type": "execute_result"
    }
   ],
   "source": [
    "cols = ['Accident_Index', 'Police_Force', 'Accident_Severity', 'Date',\n",
    "       'Day_of_Week', 'Time', 'Local_Authority_District',\n",
    "       'Local_Authority_Highway', '1st_Road_Class', 'Road_Type',\n",
    "       'Junction_Detail', 'Junction_Control', '2nd_Road_Class',\n",
    "       'Pedestrian_Crossing-Human_Control',\n",
    "       'Pedestrian_Crossing-Physical_Facilities', 'Light_Conditions',\n",
    "       'Weather_Conditions', 'Road_Surface_Conditions',\n",
    "       'Special_Conditions_at_Site', 'Carriageway_Hazards',\n",
    "       'Urban_or_Rural_Area', 'Did_Police_Officer_Attend_Scene_of_Accident',\n",
    "       'LSOA_of_Accident_Location']\n",
    "from sklearn.preprocessing import LabelEncoder\n",
    "encoder = LabelEncoder()\n",
    "\n",
    "for i in cols:\n",
    "    df[i] = encoder.fit_transform(df[i])\n",
    "df.head()"
   ]
  },
  {
   "cell_type": "code",
   "execution_count": 58,
   "metadata": {},
   "outputs": [],
   "source": [
    "from sklearn.model_selection import train_test_split\n",
    "\n",
    "# Separate the input features (X) and the target variable (y)\n",
    "X = df.drop('Accident_Severity', axis=1)\n",
    "y = df['Accident_Severity']"
   ]
  },
  {
   "cell_type": "code",
   "execution_count": 59,
   "metadata": {},
   "outputs": [],
   "source": [
    "# Split the dataset into training and testing sets (80% train, 20% test)\n",
    "X_train, X_test, y_train, y_test = train_test_split(X, y, test_size=0.2, random_state=42)"
   ]
  },
  {
   "cell_type": "code",
   "execution_count": 60,
   "metadata": {},
   "outputs": [],
   "source": [
    "from sklearn.ensemble import RandomForestClassifier"
   ]
  },
  {
   "cell_type": "code",
   "execution_count": 61,
   "metadata": {},
   "outputs": [
    {
     "data": {
      "text/plain": [
       "Accident_Index                                 3.021148e-03\n",
       "Location_Easting_OSGR                          2.014099e-04\n",
       "Location_Northing_OSGR                         1.208459e-03\n",
       "Longitude                                      2.014099e-04\n",
       "Latitude                                      -3.021148e-04\n",
       "Police_Force                                   0.000000e+00\n",
       "Number_of_Vehicles                             2.719033e-03\n",
       "Number_of_Casualties                           4.028197e-04\n",
       "Date                                           1.107754e-03\n",
       "Day_of_Week                                   -5.035247e-04\n",
       "Time                                           1.107754e-03\n",
       "Local_Authority_District                       0.000000e+00\n",
       "Local_Authority_Highway                        0.000000e+00\n",
       "1st_Road_Class                                 2.014099e-04\n",
       "1st_Road_Number                                1.110223e-17\n",
       "Road_Type                                      9.063444e-04\n",
       "Speed_limit                                   -1.007049e-04\n",
       "Junction_Detail                                1.510574e-03\n",
       "Junction_Control                               1.409869e-03\n",
       "2nd_Road_Class                                 2.014099e-04\n",
       "2nd_Road_Number                                1.409869e-03\n",
       "Pedestrian_Crossing-Human_Control              0.000000e+00\n",
       "Pedestrian_Crossing-Physical_Facilities        1.208459e-03\n",
       "Light_Conditions                               5.035247e-04\n",
       "Weather_Conditions                             2.014099e-04\n",
       "Road_Surface_Conditions                        0.000000e+00\n",
       "Special_Conditions_at_Site                     0.000000e+00\n",
       "Carriageway_Hazards                            0.000000e+00\n",
       "Urban_or_Rural_Area                            0.000000e+00\n",
       "Did_Police_Officer_Attend_Scene_of_Accident   -3.021148e-04\n",
       "LSOA_of_Accident_Location                     -3.021148e-04\n",
       "Name: AVG_Importance, dtype: float64"
      ]
     },
     "execution_count": 61,
     "metadata": {},
     "output_type": "execute_result"
    }
   ],
   "source": [
    "from sklearn.inspection import permutation_importance\n",
    "rf_estimator = RandomForestClassifier()\n",
    "rf_estimator.fit(X_train, y_train)\n",
    "\n",
    "r = permutation_importance(rf_estimator, X_test, y_test, n_repeats=10, random_state=0)\n",
    "perm = pd.DataFrame(columns=['AVG_Importance', 'STD_Importance'], index=[i for i in X_train.columns])\n",
    "perm['AVG_Importance'] = r.importances_mean\n",
    "perm['AVG_Importance']"
   ]
  },
  {
   "cell_type": "code",
   "execution_count": 62,
   "metadata": {},
   "outputs": [
    {
     "data": {
      "text/plain": [
       "<AxesSubplot:>"
      ]
     },
     "execution_count": 62,
     "metadata": {},
     "output_type": "execute_result"
    },
    {
     "data": {
      "image/png": "[encoded data removed]",
      "text/plain": [
       "<Figure size 504x504 with 1 Axes>"
      ]
     },
     "metadata": {
      "needs_background": "light"
     },
     "output_type": "display_data"
    }
   ],
   "source": [
    "perm = perm.sort_values(by=['AVG_Importance'])\n",
    "fig = plt.figure(figsize=(7,7))\n",
    "perm['AVG_Importance'].plot(kind=\"barh\")"
   ]
  },
  {
   "cell_type": "code",
   "execution_count": 63,
   "metadata": {},
   "outputs": [
    {
     "data": {
      "text/html": [
       "<div>\n",
       "<style scoped>\n",
       "    .dataframe tbody tr th:only-of-type {\n",
       "        vertical-align: middle;\n",
       "    }\n",
       "\n",
       "    .dataframe tbody tr th {\n",
       "        vertical-align: top;\n",
       "    }\n",
       "\n",
       "    .dataframe thead th {\n",
       "        text-align: right;\n",
       "    }\n",
       "</style>\n",
       "<table border=\"1\" class=\"dataframe\">\n",
       "  <thead>\n",
       "    <tr style=\"text-align: right;\">\n",
       "      <th></th>\n",
       "      <th>Number_of_Vehicles</th>\n",
       "      <th>Number_of_Casualties</th>\n",
       "      <th>Day_of_Week</th>\n",
       "      <th>Time</th>\n",
       "      <th>1st_Road_Class</th>\n",
       "      <th>1st_Road_Number</th>\n",
       "      <th>Road_Type</th>\n",
       "      <th>Speed_limit</th>\n",
       "      <th>2nd_Road_Class</th>\n",
       "      <th>2nd_Road_Number</th>\n",
       "      <th>Pedestrian_Crossing-Physical_Facilities</th>\n",
       "      <th>Light_Conditions</th>\n",
       "      <th>Did_Police_Officer_Attend_Scene_of_Accident</th>\n",
       "      <th>Road_Surface_Conditions</th>\n",
       "      <th>Accident_Severity</th>\n",
       "    </tr>\n",
       "  </thead>\n",
       "  <tbody>\n",
       "    <tr>\n",
       "      <th>825</th>\n",
       "      <td>2</td>\n",
       "      <td>1</td>\n",
       "      <td>5</td>\n",
       "      <td>796</td>\n",
       "      <td>2</td>\n",
       "      <td>0</td>\n",
       "      <td>3</td>\n",
       "      <td>30</td>\n",
       "      <td>0</td>\n",
       "      <td>3211</td>\n",
       "      <td>3</td>\n",
       "      <td>4</td>\n",
       "      <td>0</td>\n",
       "      <td>0</td>\n",
       "      <td>2</td>\n",
       "    </tr>\n",
       "    <tr>\n",
       "      <th>4770</th>\n",
       "      <td>1</td>\n",
       "      <td>1</td>\n",
       "      <td>5</td>\n",
       "      <td>272</td>\n",
       "      <td>0</td>\n",
       "      <td>102</td>\n",
       "      <td>3</td>\n",
       "      <td>30</td>\n",
       "      <td>3</td>\n",
       "      <td>0</td>\n",
       "      <td>2</td>\n",
       "      <td>4</td>\n",
       "      <td>1</td>\n",
       "      <td>0</td>\n",
       "      <td>2</td>\n",
       "    </tr>\n",
       "    <tr>\n",
       "      <th>4840</th>\n",
       "      <td>2</td>\n",
       "      <td>1</td>\n",
       "      <td>2</td>\n",
       "      <td>508</td>\n",
       "      <td>0</td>\n",
       "      <td>1208</td>\n",
       "      <td>3</td>\n",
       "      <td>30</td>\n",
       "      <td>2</td>\n",
       "      <td>0</td>\n",
       "      <td>5</td>\n",
       "      <td>4</td>\n",
       "      <td>0</td>\n",
       "      <td>0</td>\n",
       "      <td>2</td>\n",
       "    </tr>\n",
       "    <tr>\n",
       "      <th>4849</th>\n",
       "      <td>2</td>\n",
       "      <td>1</td>\n",
       "      <td>2</td>\n",
       "      <td>423</td>\n",
       "      <td>0</td>\n",
       "      <td>12</td>\n",
       "      <td>0</td>\n",
       "      <td>40</td>\n",
       "      <td>3</td>\n",
       "      <td>0</td>\n",
       "      <td>2</td>\n",
       "      <td>4</td>\n",
       "      <td>2</td>\n",
       "      <td>0</td>\n",
       "      <td>2</td>\n",
       "    </tr>\n",
       "    <tr>\n",
       "      <th>4967</th>\n",
       "      <td>2</td>\n",
       "      <td>1</td>\n",
       "      <td>1</td>\n",
       "      <td>783</td>\n",
       "      <td>0</td>\n",
       "      <td>1208</td>\n",
       "      <td>3</td>\n",
       "      <td>30</td>\n",
       "      <td>2</td>\n",
       "      <td>0</td>\n",
       "      <td>2</td>\n",
       "      <td>4</td>\n",
       "      <td>2</td>\n",
       "      <td>0</td>\n",
       "      <td>2</td>\n",
       "    </tr>\n",
       "  </tbody>\n",
       "</table>\n",
       "</div>"
      ],
      "text/plain": [
       "      Number_of_Vehicles  Number_of_Casualties  Day_of_Week  Time  \\\n",
       "825                    2                     1            5   796   \n",
       "4770                   1                     1            5   272   \n",
       "4840                   2                     1            2   508   \n",
       "4849                   2                     1            2   423   \n",
       "4967                   2                     1            1   783   \n",
       "\n",
       "      1st_Road_Class  1st_Road_Number  Road_Type  Speed_limit  2nd_Road_Class  \\\n",
       "825                2                0          3           30               0   \n",
       "4770               0              102          3           30               3   \n",
       "4840               0             1208          3           30               2   \n",
       "4849               0               12          0           40               3   \n",
       "4967               0             1208          3           30               2   \n",
       "\n",
       "      2nd_Road_Number  Pedestrian_Crossing-Physical_Facilities  \\\n",
       "825              3211                                        3   \n",
       "4770                0                                        2   \n",
       "4840                0                                        5   \n",
       "4849                0                                        2   \n",
       "4967                0                                        2   \n",
       "\n",
       "      Light_Conditions  Did_Police_Officer_Attend_Scene_of_Accident  \\\n",
       "825                  4                                            0   \n",
       "4770                 4                                            1   \n",
       "4840                 4                                            0   \n",
       "4849                 4                                            2   \n",
       "4967                 4                                            2   \n",
       "\n",
       "      Road_Surface_Conditions  Accident_Severity  \n",
       "825                         0                  2  \n",
       "4770                        0                  2  \n",
       "4840                        0                  2  \n",
       "4849                        0                  2  \n",
       "4967                        0                  2  "
      ]
     },
     "execution_count": 63,
     "metadata": {},
     "output_type": "execute_result"
    }
   ],
   "source": [
    "\n",
    "df = df[['Number_of_Vehicles', 'Number_of_Casualties', 'Day_of_Week', 'Time','1st_Road_Class', '1st_Road_Number', \n",
    "        'Road_Type', 'Speed_limit', '2nd_Road_Class','2nd_Road_Number','Pedestrian_Crossing-Physical_Facilities', \n",
    "        'Light_Conditions', 'Did_Police_Officer_Attend_Scene_of_Accident', 'Road_Surface_Conditions', 'Accident_Severity']]\n",
    "\n",
    "df.head()"
   ]
  },
  {
   "cell_type": "code",
   "execution_count": 64,
   "metadata": {},
   "outputs": [],
   "source": [
    "X = df.iloc[:, :-1]\n",
    "y = df.iloc[:, -1]"
   ]
  },
  {
   "cell_type": "code",
   "execution_count": 65,
   "metadata": {},
   "outputs": [],
   "source": [
    "# split the dataset\n",
    "X_train, X_test, y_train, y_test = train_test_split(X, y, test_size=0.2, random_state=0)"
   ]
  },
  {
   "cell_type": "markdown",
   "metadata": {},
   "source": [
    "### kmeans clustering"
   ]
  },
  {
   "cell_type": "code",
   "execution_count": 66,
   "metadata": {},
   "outputs": [],
   "source": [
    "\n",
    "# Choose the value of K based on the plots (e.g., K=4)\n",
    "chosen_k = 4\n",
    "\n",
    "# Fit K-means model with the chosen K\n",
    "kmeans = KMeans(n_clusters=chosen_k, random_state=42)\n",
    "kmeans.fit(X_train)\n",
    "labels = kmeans.predict(X_train)"
   ]
  },
  {
   "cell_type": "code",
   "execution_count": 67,
   "metadata": {},
   "outputs": [
    {
     "data": {
      "image/png": "[encoded data removed]",
      "text/plain": [
       "<Figure size 864x432 with 2 Axes>"
      ]
     },
     "metadata": {
      "needs_background": "light"
     },
     "output_type": "display_data"
    }
   ],
   "source": [
    "# Visualize the clusters using scatter plots\n",
    "plt.figure(figsize=(12, 6))\n",
    "plt.subplot(1, 2, 1)\n",
    "plt.scatter(X_train['Time'], X_train['Speed_limit'], c=labels, cmap='viridis', alpha=0.5)\n",
    "plt.xlabel('Time (Hour of the Day)')\n",
    "plt.ylabel('Speed Limit')\n",
    "plt.title('Clusters of Accidents (Time vs. Speed Limit)')\n",
    "\n",
    "plt.subplot(1, 2, 2)\n",
    "plt.scatter(X_train['Number_of_Vehicles'], X_train['Number_of_Casualties'], c=labels, cmap='viridis', alpha=0.5)\n",
    "plt.xlabel('Number of Vehicles')\n",
    "plt.ylabel('Number of Casualties')\n",
    "plt.title('Clusters of Accidents (Number of Vehicles vs. Number of Casualties)')\n",
    "\n",
    "plt.tight_layout()\n",
    "plt.show()"
   ]
  },
  {
   "cell_type": "markdown",
   "metadata": {},
   "source": [
    "## Decision tree"
   ]
  },
  {
   "cell_type": "code",
   "execution_count": 68,
   "metadata": {},
   "outputs": [
    {
     "data": {
      "text/plain": [
       "DecisionTreeClassifier(random_state=42)"
      ]
     },
     "execution_count": 68,
     "metadata": {},
     "output_type": "execute_result"
    }
   ],
   "source": [
    "dt_model = DecisionTreeClassifier(random_state=42)\n",
    "dt_model.fit(X_train, y_train)\n"
   ]
  },
  {
   "cell_type": "code",
   "execution_count": 69,
   "metadata": {},
   "outputs": [],
   "source": [
    "y_pred = dt_model.predict(X_test)"
   ]
  },
  {
   "cell_type": "code",
   "execution_count": 70,
   "metadata": {},
   "outputs": [],
   "source": [
    "# Evaluation Metrics\n",
    "accuracy = accuracy_score(y_test, y_pred)\n",
    "precision = precision_score(y_test, y_pred, average='weighted')\n",
    "recall = recall_score(y_test, y_pred, average='weighted')\n",
    "f1 = f1_score(y_test, y_pred, average='weighted')"
   ]
  },
  {
   "cell_type": "code",
   "execution_count": 71,
   "metadata": {},
   "outputs": [
    {
     "name": "stdout",
     "output_type": "stream",
     "text": [
      "Decision Tree Model Evaluation Metrics:\n",
      "Accuracy: 0.7593152064451159\n",
      "Precision: 0.7891445152035471\n",
      "Recall: 0.7593152064451159\n",
      "F1 Score: 0.7734927823916297\n",
      "\n",
      "Confusion Matrix:\n"
     ]
    },
    {
     "data": {
      "image/png": "[encoded data removed]",
      "text/plain": [
       "<Figure size 432x288 with 2 Axes>"
      ]
     },
     "metadata": {
      "needs_background": "light"
     },
     "output_type": "display_data"
    }
   ],
   "source": [
    "print(\"Decision Tree Model Evaluation Metrics:\")\n",
    "print(\"Accuracy:\", accuracy)\n",
    "print(\"Precision:\", precision)\n",
    "print(\"Recall:\", recall)\n",
    "print(\"F1 Score:\", f1)\n",
    "print(\"\\nConfusion Matrix:\")\n",
    "plot_confusion_matrix(dt_model, X_test, y_test)\n",
    "plt.show()"
   ]
  },
  {
   "cell_type": "markdown",
   "metadata": {},
   "source": [
    "### K-nearest neighbors "
   ]
  },
  {
   "cell_type": "code",
   "execution_count": 72,
   "metadata": {},
   "outputs": [],
   "source": [
    "# Creating and training the KNN model\n",
    "knn_model = KNeighborsClassifier(n_neighbors=5)  # Using 5 neighbors, but you can try different values\n",
    "knn_model.fit(X_train, y_train)\n",
    "\n",
    "# Making predictions on the test set\n",
    "y_pred = knn_model.predict(X_test)"
   ]
  },
  {
   "cell_type": "code",
   "execution_count": 73,
   "metadata": {},
   "outputs": [
    {
     "name": "stdout",
     "output_type": "stream",
     "text": [
      "Accuracy: 0.8539778449144008\n",
      "Precision: 0.7799945412278473\n",
      "Recall: 0.8539778449144008\n",
      "F1 Score: 0.8133898070809391\n",
      "Confusion Matrix:\n"
     ]
    },
    {
     "data": {
      "image/png": "[encoded data removed]",
      "text/plain": [
       "<Figure size 432x288 with 2 Axes>"
      ]
     },
     "metadata": {
      "needs_background": "light"
     },
     "output_type": "display_data"
    }
   ],
   "source": [
    "# Model evaluation\n",
    "accuracy = accuracy_score(y_test, y_pred)\n",
    "precision = precision_score(y_test, y_pred, average='weighted')\n",
    "recall = recall_score(y_test, y_pred, average='weighted')\n",
    "f1 = f1_score(y_test, y_pred, average='weighted')\n",
    "#conf_matrix = confusion_matrix(y_test, y_pred)\n",
    "\n",
    "print(\"Accuracy:\", accuracy)\n",
    "print(\"Precision:\", precision)\n",
    "print(\"Recall:\", recall)\n",
    "print(\"F1 Score:\", f1)\n",
    "print(\"Confusion Matrix:\")\n",
    "plot_confusion_matrix(knn_model, X_test, y_test)\n",
    "plt.show()"
   ]
  },
  {
   "cell_type": "code",
   "execution_count": null,
   "metadata": {},
   "outputs": [],
   "source": []
  },
  {
   "cell_type": "code",
   "execution_count": null,
   "metadata": {},
   "outputs": [],
   "source": []
  }
 ],
 "metadata": {
  "kernelspec": {
   "display_name": "Python 3",
   "language": "python",
   "name": "python3"
  },
  "language_info": {
   "codemirror_mode": {
    "name": "ipython",
    "version": 3
   },
   "file_extension": ".py",
   "mimetype": "text/x-python",
   "name": "python",
   "nbconvert_exporter": "python",
   "pygments_lexer": "ipython3",
   "version": "3.8.5"
  }
 },
 "nbformat": 4,
 "nbformat_minor": 4
}
